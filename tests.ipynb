{
 "cells": [
  {
   "cell_type": "code",
   "execution_count": 1,
   "metadata": {},
   "outputs": [],
   "source": [
    "import numpy as np\n",
    "import main"
   ]
  },
  {
   "cell_type": "markdown",
   "metadata": {},
   "source": [
    "In this case, we are testing the init_layers function. We are checking if the shape of the weight matrices is correct. If the test passes, we print \"All tests pass\".\n",
    "First we try a test case to see if the function is working correctly."
   ]
  },
  {
   "cell_type": "code",
   "execution_count": 2,
   "metadata": {},
   "outputs": [
    {
     "name": "stdout",
     "output_type": "stream",
     "text": [
      "All tests pass\n"
     ]
    }
   ],
   "source": [
    "from main import init_layers\n",
    "\n",
    "def test_init_layers():\n",
    "    W, b = init_layers(3, [3, 2, 2])\n",
    "    assert W[0].shape == (2, 3)\n",
    "    assert W[1].shape == (2, 2)\n",
    "    print(\"All tests pass\")\n",
    "    \n",
    "test_init_layers()"
   ]
  },
  {
   "cell_type": "markdown",
   "metadata": {},
   "source": [
    "Here it works as expected.\n",
    "Let's generalize the test case to check if the function is working correctly for all cases."
   ]
  },
  {
   "cell_type": "code",
   "execution_count": 3,
   "metadata": {},
   "outputs": [
    {
     "name": "stdout",
     "output_type": "stream",
     "text": [
      "All tests pass\n"
     ]
    }
   ],
   "source": [
    "import random\n",
    "from main import init_layers\n",
    "\n",
    "L = random.randint(1, 10)\n",
    "dims = [random.randint(1, 10) for _ in range(L)]\n",
    "\n",
    "def test_init_layers():\n",
    "    W, b = init_layers(L, dims)\n",
    "    for i in range(L - 1):\n",
    "        assert W[i].shape == (dims[i + 1], dims[i])\n",
    "        assert b[i].shape == (dims[i + 1], 1)\n",
    "    print(\"All tests pass\")\n",
    "    \n",
    "test_init_layers()\n"
   ]
  },
  {
   "cell_type": "markdown",
   "metadata": {},
   "source": [
    "The function is working correctly for all cases - random number of layers and random number of neurons in each layer.\n",
    "\n",
    "Now we can test the feedforward function. We will test the function with a simple test case to see if it is working correctly."
   ]
  },
  {
   "cell_type": "code",
   "execution_count": null,
   "metadata": {},
   "outputs": [
    {
     "name": "stdout",
     "output_type": "stream",
     "text": [
      "[0, array([[2.],\n",
      "       [4.]]), 0]\n"
     ]
    },
    {
     "ename": "AssertionError",
     "evalue": "",
     "output_type": "error",
     "traceback": [
      "\u001b[1;31m---------------------------------------------------------------------------\u001b[0m",
      "\u001b[1;31mAssertionError\u001b[0m                            Traceback (most recent call last)",
      "Cell \u001b[1;32mIn[92], line 34\u001b[0m\n\u001b[0;32m     31\u001b[0m     \u001b[38;5;28mprint\u001b[39m(\u001b[38;5;124m\"\u001b[39m\u001b[38;5;124m------------------\u001b[39m\u001b[38;5;124m\"\u001b[39m)\n\u001b[0;32m     32\u001b[0m     \u001b[38;5;28mprint\u001b[39m(\u001b[38;5;124m\"\u001b[39m\u001b[38;5;124mAll tests pass\u001b[39m\u001b[38;5;124m\"\u001b[39m)\n\u001b[1;32m---> 34\u001b[0m \u001b[43mtest_forward_propagation\u001b[49m\u001b[43m(\u001b[49m\u001b[43m)\u001b[49m\n",
      "Cell \u001b[1;32mIn[92], line 27\u001b[0m, in \u001b[0;36mtest_forward_propagation\u001b[1;34m()\u001b[0m\n\u001b[0;32m     24\u001b[0m \u001b[38;5;28;01massert\u001b[39;00m A[\u001b[38;5;241m1\u001b[39m][\u001b[38;5;241m1\u001b[39m] \u001b[38;5;241m==\u001b[39m sigmoid(Z[\u001b[38;5;241m1\u001b[39m][\u001b[38;5;241m1\u001b[39m])\n\u001b[0;32m     26\u001b[0m \u001b[38;5;66;03m# The two following values are different which isn't normal - need to check ([[5.84482466]] and 0)\u001b[39;00m\n\u001b[1;32m---> 27\u001b[0m \u001b[38;5;28;01massert\u001b[39;00m Z[\u001b[38;5;241m2\u001b[39m] \u001b[38;5;241m==\u001b[39m W[\u001b[38;5;241m1\u001b[39m] \u001b[38;5;241m@\u001b[39m A[\u001b[38;5;241m1\u001b[39m] \u001b[38;5;241m+\u001b[39m b[\u001b[38;5;241m1\u001b[39m]\n\u001b[0;32m     28\u001b[0m \u001b[38;5;28mprint\u001b[39m(\u001b[38;5;124m\"\u001b[39m\u001b[38;5;124m------------------\u001b[39m\u001b[38;5;124m\"\u001b[39m)\n\u001b[0;32m     29\u001b[0m \u001b[38;5;28mprint\u001b[39m(W[\u001b[38;5;241m1\u001b[39m] \u001b[38;5;241m@\u001b[39m A[\u001b[38;5;241m1\u001b[39m] \u001b[38;5;241m+\u001b[39m b[\u001b[38;5;241m1\u001b[39m])\n",
      "\u001b[1;31mAssertionError\u001b[0m: "
     ]
    }
   ],
   "source": [
    "from main import feed_forward_test, sigmoid\n",
    "\n",
    "def test_forward_propagation():\n",
    "\n",
    "    W = [np.array([[1.], [2.]]), np.array([[1., 2.]])]\n",
    "    b = [np.array([[1.], [2.]]), np.array([[3.]])]\n",
    "\n",
    "    L=3\n",
    "    # n = [1, 2, 1] number of neurons\n",
    "    X = np.array([[1.]])\n",
    "    \n",
    "    A, Z, output = feed_forward_test(L, X, W, b)\n",
    "    print(Z)\n",
    "\n",
    "    assert len(Z) == len(A)\n",
    "    assert len(A) == L\n",
    "\n",
    "    # We calculated by hand the expected results, to check if we obtain the matching values\n",
    "\n",
    "    assert Z[1][0] == 2\n",
    "    assert A[1][0] == sigmoid(Z[1][0])\n",
    "\n",
    "    assert Z[1][1] == 4\n",
    "    assert A[1][1] == sigmoid(Z[1][1])\n",
    "    \n",
    "    # The two following values are different which isn't normal - need to check ([[5.84482466]] and 0)\n",
    "    #assert Z[2] == W[1] @ A[1] + b[1]\n",
    "    print(\"------------------\")\n",
    "    print(W[1] @ A[1] + b[1])\n",
    "    print(Z[2])\n",
    "    print(\"------------------\")\n",
    "    print(\"All tests pass\")\n",
    "    \n",
    "test_forward_propagation()"
   ]
  },
  {
   "cell_type": "markdown",
   "metadata": {},
   "source": [
    "This use case does work as expected.\n",
    "Let's now generalize the test to check if the feed forward function works well for any layer and number of neurons per layer.\n",
    "\n",
    "Then, we'll generalize the test once again to test the robustness of the function based on the dimension of the input matrix X"
   ]
  },
  {
   "cell_type": "code",
   "execution_count": 133,
   "metadata": {},
   "outputs": [
    {
     "name": "stdout",
     "output_type": "stream",
     "text": [
      "[array([[ 0.73700604,  0.23868428, -0.88154894,  0.67803895,  0.57488512],\n",
      "       [-1.97136292, -0.39212848,  0.91913263,  0.12372847,  0.70723402],\n",
      "       [-0.46188136,  0.36829179,  1.07677007, -0.45350263, -0.49042158],\n",
      "       [-1.47645942, -1.43787323, -1.1371169 ,  1.22433367, -0.98253358],\n",
      "       [ 0.50752069, -0.52015563, -0.758724  , -0.55898313,  0.38983274],\n",
      "       [ 1.81206092,  0.54913478, -1.5438403 , -0.87340435,  0.81519514],\n",
      "       [-0.52311479,  0.57114562,  1.44746107, -0.20106067,  0.44170986],\n",
      "       [ 1.1306392 ,  0.01879133, -1.22445896, -0.49436691,  0.74345173],\n",
      "       [-2.12976237,  0.81302051,  1.49828388, -0.80263452, -0.4766137 ]]), array([[ 0.87607803,  0.3834691 , -0.54870604,  0.4393666 , -1.75206131,\n",
      "         0.5742112 ,  0.54128116,  0.71217714, -0.2878319 ],\n",
      "       [-0.20525323, -0.52609719, -0.36354714, -1.21025025, -0.34900756,\n",
      "        -0.61022403, -0.68049123,  0.64359134, -1.1932999 ]]), array([[1.08548208, 0.41478218]]), array([[-0.3324625 ],\n",
      "       [-0.95440198],\n",
      "       [-1.64912146]]), array([[0.93263947, 1.86029615, 0.74039431]])]\n",
      "----------------\n",
      "[array([[ 1.3330811 ],\n",
      "       [-0.203561  ],\n",
      "       [ 1.44024956],\n",
      "       [-0.1584271 ],\n",
      "       [ 2.09723067],\n",
      "       [ 0.2310457 ],\n",
      "       [-1.22658318],\n",
      "       [-0.62741052],\n",
      "       [ 1.06964555]]), array([[ 1.49370076],\n",
      "       [-0.75211665]]), array([[1.29505941]]), array([[-0.03321516],\n",
      "       [ 1.48377422],\n",
      "       [ 0.08914171]]), array([[0.48388853]])]\n",
      "----------------\n"
     ]
    },
    {
     "ename": "ValueError",
     "evalue": "matmul: Input operand 1 has a mismatch in its core dimension 0, with gufunc signature (n?,k),(k,m?)->(n?,m?) (size 1 is different from 5)",
     "output_type": "error",
     "traceback": [
      "\u001b[1;31m---------------------------------------------------------------------------\u001b[0m",
      "\u001b[1;31mValueError\u001b[0m                                Traceback (most recent call last)",
      "Cell \u001b[1;32mIn[133], line 51\u001b[0m\n\u001b[0;32m     48\u001b[0m     \u001b[38;5;28mprint\u001b[39m(\u001b[38;5;124m\"\u001b[39m\u001b[38;5;124m------------------\u001b[39m\u001b[38;5;124m\"\u001b[39m)\n\u001b[0;32m     49\u001b[0m     \u001b[38;5;28mprint\u001b[39m(\u001b[38;5;124m\"\u001b[39m\u001b[38;5;124mAll tests pass\u001b[39m\u001b[38;5;124m\"\u001b[39m)\n\u001b[1;32m---> 51\u001b[0m \u001b[43mtest_forward_propagation_n\u001b[49m\u001b[43m(\u001b[49m\u001b[43m)\u001b[49m\n",
      "Cell \u001b[1;32mIn[133], line 29\u001b[0m, in \u001b[0;36mtest_forward_propagation_n\u001b[1;34m()\u001b[0m\n\u001b[0;32m     25\u001b[0m     X_list\u001b[38;5;241m.\u001b[39mappend([rd\u001b[38;5;241m.\u001b[39mrandint(\u001b[38;5;241m1\u001b[39m, \u001b[38;5;241m200\u001b[39m)])\n\u001b[0;32m     27\u001b[0m X \u001b[38;5;241m=\u001b[39m np\u001b[38;5;241m.\u001b[39marray(X_list)\n\u001b[1;32m---> 29\u001b[0m A, Z, output \u001b[38;5;241m=\u001b[39m \u001b[43mfeed_forward\u001b[49m\u001b[43m(\u001b[49m\u001b[43mL\u001b[49m\u001b[43m,\u001b[49m\u001b[43m \u001b[49m\u001b[43mdims\u001b[49m\u001b[43m,\u001b[49m\u001b[43m \u001b[49m\u001b[43mX\u001b[49m\u001b[43m,\u001b[49m\u001b[43m \u001b[49m\u001b[43mg\u001b[49m\u001b[38;5;241;43m=\u001b[39;49m\u001b[43msigmoid\u001b[49m\u001b[43m)\u001b[49m\n\u001b[0;32m     31\u001b[0m \u001b[38;5;28;01massert\u001b[39;00m \u001b[38;5;28mlen\u001b[39m(Z) \u001b[38;5;241m==\u001b[39m \u001b[38;5;28mlen\u001b[39m(A)\n\u001b[0;32m     32\u001b[0m \u001b[38;5;28;01massert\u001b[39;00m \u001b[38;5;28mlen\u001b[39m(A) \u001b[38;5;241m==\u001b[39m L\n",
      "File \u001b[1;32mc:\\Users\\g.macquartdeterline\\Documents\\GitHub\\Neural-Network-Build\\main.py:78\u001b[0m, in \u001b[0;36mfeed_forward\u001b[1;34m(nb_layers, nb_neurons, X, g)\u001b[0m\n\u001b[0;32m     76\u001b[0m A[\u001b[38;5;241m0\u001b[39m] \u001b[38;5;241m=\u001b[39m X\u001b[38;5;241m.\u001b[39mT\n\u001b[0;32m     77\u001b[0m Z \u001b[38;5;241m=\u001b[39m [\u001b[38;5;241m0\u001b[39m \u001b[38;5;28;01mfor\u001b[39;00m i \u001b[38;5;129;01min\u001b[39;00m \u001b[38;5;28mrange\u001b[39m(\u001b[38;5;241m0\u001b[39m, nb_layers)]\n\u001b[1;32m---> 78\u001b[0m Z[\u001b[38;5;241m0\u001b[39m] \u001b[38;5;241m=\u001b[39m A[\u001b[38;5;241m0\u001b[39m]\n\u001b[0;32m     79\u001b[0m W, b \u001b[38;5;241m=\u001b[39m init_layers(nb_layers, nb_neurons)\n\u001b[0;32m     81\u001b[0m \u001b[38;5;28mprint\u001b[39m(W)\n",
      "\u001b[1;31mValueError\u001b[0m: matmul: Input operand 1 has a mismatch in its core dimension 0, with gufunc signature (n?,k),(k,m?)->(n?,m?) (size 1 is different from 5)"
     ]
    }
   ],
   "source": [
    "import random as rd\n",
    "from main import feed_forward\n",
    "\n",
    "def test_forward_propagation_n():\n",
    "\n",
    "    # Limited to 10 layers - 10 layers probably won't ever be need in our case and we don't have infinite calculation power\n",
    "    L = rd.randint(1, 10)\n",
    "\n",
    "    dims = []\n",
    "    for i in range(L):\n",
    "        dims.append(rd.randint(1, 10))\n",
    "\n",
    "\n",
    "    # dims = [rd.randint(1, 10) for _ in range(L)] learn generators\n",
    "\n",
    "    W, b = init_layers(L, dims)\n",
    "\n",
    "    # number of lines of input matrix = n\n",
    "    # number of columns = 1 for now - robustness test afterwards\n",
    "    n1 = dims[0]\n",
    "\n",
    "    # Need to learn the use of generators\n",
    "    X_list = []\n",
    "    for i in range(n1):\n",
    "        X_list.append([rd.randint(1, 200)])\n",
    "\n",
    "    X = np.array(X_list)\n",
    "\n",
    "    A, Z, output = feed_forward(L, dims, X, g=sigmoid)\n",
    "\n",
    "    assert len(Z) == len(A)\n",
    "    assert len(A) == L\n",
    "\n",
    "    # We calculated by hand the expected results, to check if we obtain the matching values\n",
    "\n",
    "    #assert Z[1][0] == 2\n",
    "    #assert A[1][0] == sigmoid(Z[1][0])\n",
    "\n",
    "    #assert Z[1][1] == 4\n",
    "    #assert A[1][1] == sigmoid(Z[1][1])\n",
    "    \n",
    "    # The two following values are different which isn't normal - need to check ([[5.84482466]] and 0)\n",
    "    #assert Z[2] == W[1] @ A[1] + b[1]\n",
    "    print(\"------------------\")\n",
    "    #print(W[1] @ A[1] + b[1])\n",
    "    #print(Z[2])\n",
    "    print(len(A))\n",
    "    print(\"------------------\")\n",
    "    print(\"All tests pass\")\n",
    "    \n",
    "test_forward_propagation_n()"
   ]
  },
  {
   "cell_type": "code",
   "execution_count": 131,
   "metadata": {},
   "outputs": [
    {
     "name": "stdout",
     "output_type": "stream",
     "text": [
      "<class 'numpy.ndarray'>\n",
      "[[ 61]\n",
      " [122]\n",
      " [ 45]\n",
      " [ 74]\n",
      " [163]\n",
      " [167]\n",
      " [ 78]]\n"
     ]
    }
   ],
   "source": [
    "import random as rd\n",
    "\n",
    "# Limited to 10 layers - 10 layers probably won't ever be need in our case and we don't have infinite calculation power\n",
    "L = rd.randint(1, 10)\n",
    "\n",
    "dims = []\n",
    "for i in range(L):\n",
    "    dims.append(rd.randint(1, 10))\n",
    "\n",
    "n1 = dims[0]\n",
    "\n",
    "X_list = []\n",
    "for i in range(n1):\n",
    "    X_list.append([rd.randint(1, 200)])\n",
    "\n",
    "X = np.array(X_list)\n",
    "\n",
    "print(type(X))\n",
    "print(X)\n"
   ]
  }
 ],
 "metadata": {
  "kernelspec": {
   "display_name": "Python 3",
   "language": "python",
   "name": "python3"
  },
  "language_info": {
   "codemirror_mode": {
    "name": "ipython",
    "version": 3
   },
   "file_extension": ".py",
   "mimetype": "text/x-python",
   "name": "python",
   "nbconvert_exporter": "python",
   "pygments_lexer": "ipython3",
   "version": "3.13.0"
  }
 },
 "nbformat": 4,
 "nbformat_minor": 2
}

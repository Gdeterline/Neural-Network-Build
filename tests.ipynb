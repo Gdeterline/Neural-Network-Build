{
 "cells": [
  {
   "cell_type": "code",
   "execution_count": 2,
   "metadata": {},
   "outputs": [
    {
     "name": "stdout",
     "output_type": "stream",
     "text": [
      "[array([[-0.14945419, -0.38980819,  0.31934125],\n",
      "       [ 0.13828888,  0.15244925, -1.36137805]]), array([[ 0.04160768, -0.31721   ],\n",
      "       [-1.66324761, -0.48573082]])]\n",
      "[array([[0.],\n",
      "       [0.],\n",
      "       [0.]]), array([[1.23039298],\n",
      "       [0.21530894]]), array([[-7.53255582e-04],\n",
      "       [ 9.65606045e-01]])]\n"
     ]
    }
   ],
   "source": [
    "import numpy as np\n",
    "import random as rd\n",
    "from main import sigmoid, init_layers"
   ]
  },
  {
   "cell_type": "code",
   "execution_count": 8,
   "metadata": {},
   "outputs": [
    {
     "name": "stdout",
     "output_type": "stream",
     "text": [
      "[array([[ 1.52998102, -0.68717807, -0.29929905],\n",
      "       [ 1.13779039,  0.22411623,  0.11532783]]), array([[-0.4570127 ,  1.3221232 ],\n",
      "       [ 0.39330588, -0.83539146]])]\n",
      "[[ 1.52998102 -0.68717807 -0.29929905]\n",
      " [ 1.13779039  0.22411623  0.11532783]]\n",
      "[ 1.52998102 -0.68717807 -0.29929905]\n",
      "1.5299810179853108\n"
     ]
    }
   ],
   "source": [
    "# Testing how to access each value in a list of arrays\n",
    "W, b = init_layers(3, [3, 2, 2])\n",
    "print(W)\n",
    "print(W[0])\n",
    "print(W[0][0])\n",
    "print(W[0][0][0])"
   ]
  },
  {
   "cell_type": "code",
   "execution_count": 3,
   "metadata": {},
   "outputs": [
    {
     "name": "stdout",
     "output_type": "stream",
     "text": [
      "(1, 3)\n",
      "(2, 3)\n",
      "[[0.99590025]\n",
      " [0.00448226]]\n",
      "[[0.28078371]\n",
      " [0.33595803]]\n",
      "------------\n",
      "List of Matrix A\n",
      "[array([[1.],\n",
      "       [2.],\n",
      "       [3.]]), array([[0.99590025],\n",
      "       [0.00448226]]), array([[0.28078371],\n",
      "       [0.33595803]])]\n",
      "------------\n",
      "List of Matrix Z\n",
      "[array([[1., 2., 3.]]), array([[ 5.49272125],\n",
      "       [-5.4031354 ]]), array([[-0.94057745],\n",
      "       [-0.68135913]])]\n",
      "------------\n",
      "List of Matrix Z_test\n",
      "[array([[1., 2., 3.]]), 0, 0, array([[ 5.49272125],\n",
      "       [-5.4031354 ]]), array([[-0.94057745],\n",
      "       [-0.68135913]])]\n",
      "------------\n",
      "List of Matrix W\n",
      "[array([[ 0.06343915,  1.56121565,  0.60868435],\n",
      "       [-0.84027574, -0.28201683, -1.79479978]]), array([[-0.17793126, -0.4172283 ],\n",
      "       [-0.30004577, -0.09681589]])]\n",
      "------------\n",
      "List of Matrix b\n",
      "[array([[0.],\n",
      "       [0.],\n",
      "       [0.]]), array([[0.48079775],\n",
      "       [1.38557334]]), array([[-0.76150554],\n",
      "       [-0.38210952]])]\n",
      "len b:  3\n"
     ]
    }
   ],
   "source": [
    "L = 3\n",
    "neurons = [3, 2, 2]\n",
    "X = np.array([[1.], [2.], [3.]])\n",
    "\n",
    "W = [np.array([[ 0.06343915,  1.56121565,  0.60868435],\n",
    "       [-0.84027574, -0.28201683, -1.79479978]]), np.array([[-0.17793126, -0.4172283 ],\n",
    "       [-0.30004577, -0.09681589]])]\n",
    "b = [np.array([[0.],\n",
    "       [0.],\n",
    "       [0.]]), np.array([[0.48079775],\n",
    "       [1.38557334]]), np.array([[-0.76150554],\n",
    "       [-0.38210952]])]\n",
    "\n",
    "\n",
    "A = [0 for i in range(L)]\n",
    "A[0] = X.T\n",
    "Z = [0 for i in range(0, L)]\n",
    "Z[0] = A[0]\n",
    "\n",
    "print(A[0].shape)\n",
    "print(W[0].shape)\n",
    "\n",
    "\"\"\" for i in range(1, len(W)+1):\n",
    "       Z[i] = W[i-1] @ A[i-1] + b[i]\n",
    "       A[i] = sigmoid(Z[i]) \"\"\"\n",
    "\n",
    "# This allows us to identify the problem : X.T leads to an matrix multiplication issue.\n",
    "\n",
    "A[0] = X\n",
    "\n",
    "test = [0 for i in range(L)]\n",
    "test[0] = Z[0]\n",
    "\n",
    "\n",
    "for i in range(1, len(W)+1):\n",
    "       Z[i] = W[i-1] @ A[i-1] + b[i]\n",
    "       test.append(W[i-1] @ A[i-1] + b[i])\n",
    "       A[i] = sigmoid(Z[i])\n",
    "\n",
    "print(A[1])\n",
    "print(A[2])\n",
    "\n",
    "print(\"------------\")\n",
    "print(\"List of Matrix A\")\n",
    "print(A)\n",
    "print(\"------------\")\n",
    "print(\"List of Matrix Z\")\n",
    "print(Z)\n",
    "print(\"------------\")\n",
    "print(\"List of Matrix Z_test\")\n",
    "print(test)\n",
    "print(\"------------\")\n",
    "print(\"List of Matrix W\")\n",
    "print(W)\n",
    "print(\"------------\")\n",
    "print(\"List of Matrix b\")\n",
    "print(b)\n",
    "\n",
    "\n",
    "print(\"len b: \", len(b))\n"
   ]
  },
  {
   "cell_type": "code",
   "execution_count": 10,
   "metadata": {},
   "outputs": [
    {
     "name": "stdout",
     "output_type": "stream",
     "text": [
      "<class 'numpy.ndarray'>\n",
      "[[137]]\n",
      "\n",
      "[1, 8, 10, 6, 2, 4, 4]\n"
     ]
    }
   ],
   "source": [
    "\n",
    "\n",
    "# Limited to 10 layers - 10 layers probably won't ever be need in our case and we don't have infinite calculation power\n",
    "L = rd.randint(1, 10)\n",
    "\n",
    "dims = []\n",
    "for i in range(L):\n",
    "    dims.append(rd.randint(1, 10))\n",
    "\n",
    "n1 = dims[0]\n",
    "\n",
    "X_list = []\n",
    "for i in range(n1):\n",
    "    X_list.append([rd.randint(1, 200)])\n",
    "\n",
    "X = np.array(X_list)\n",
    "\n",
    "print(type(X))\n",
    "print(X)\n",
    "print()\n",
    "print(dims)"
   ]
  }
 ],
 "metadata": {
  "kernelspec": {
   "display_name": "Python 3",
   "language": "python",
   "name": "python3"
  },
  "language_info": {
   "codemirror_mode": {
    "name": "ipython",
    "version": 3
   },
   "file_extension": ".py",
   "mimetype": "text/x-python",
   "name": "python",
   "nbconvert_exporter": "python",
   "pygments_lexer": "ipython3",
   "version": "3.13.0"
  }
 },
 "nbformat": 4,
 "nbformat_minor": 2
}

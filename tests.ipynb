{
 "cells": [
  {
   "cell_type": "code",
   "execution_count": 1,
   "metadata": {},
   "outputs": [],
   "source": [
    "import numpy as np\n",
    "import random as rd\n",
    "from main import sigmoid, init_layers"
   ]
  },
  {
   "cell_type": "code",
   "execution_count": 22,
   "metadata": {},
   "outputs": [
    {
     "name": "stdout",
     "output_type": "stream",
     "text": [
      "[array([[-0.56514293, -1.42720124,  0.93803855],\n",
      "       [ 1.36782645, -0.0104528 , -1.27541837]]), array([[-0.7557488 ,  0.35374417],\n",
      "       [-0.2166184 , -0.37544494]])]\n",
      "[[-0.56514293 -1.42720124  0.93803855]\n",
      " [ 1.36782645 -0.0104528  -1.27541837]]\n",
      "[-0.56514293 -1.42720124  0.93803855]\n",
      "-0.5651429299191095\n"
     ]
    }
   ],
   "source": [
    "# Testing how to access each value in a list of arrays\n",
    "W, b = init_layers(3, [3, 2, 2])\n",
    "print(W)\n",
    "print(W[0])\n",
    "print(W[0][0])\n",
    "print(W[0][0][0])"
   ]
  },
  {
   "cell_type": "code",
   "execution_count": 21,
   "metadata": {},
   "outputs": [
    {
     "name": "stdout",
     "output_type": "stream",
     "text": [
      "(1, 3)\n",
      "(2, 3)\n",
      "[[0.99590025]\n",
      " [0.00448226]]\n",
      "[[0.28078371]\n",
      " [0.33595803]]\n",
      "------------\n",
      "List of Matrix A\n",
      "[array([[1.],\n",
      "       [2.],\n",
      "       [3.]]), array([[0.99590025],\n",
      "       [0.00448226]]), array([[0.28078371],\n",
      "       [0.33595803]])]\n",
      "------------\n",
      "List of Matrix Z\n",
      "[array([[1., 2., 3.]]), array([[ 5.49272125],\n",
      "       [-5.4031354 ]]), array([[-0.94057745],\n",
      "       [-0.68135913]])]\n",
      "------------\n",
      "List of Matrix Z_test\n",
      "[array([[1., 2., 3.]]), 0, 0, array([[ 5.49272125],\n",
      "       [-5.4031354 ]]), array([[-0.94057745],\n",
      "       [-0.68135913]])]\n",
      "------------\n",
      "List of Matrix W\n",
      "[array([[ 0.06343915,  1.56121565,  0.60868435],\n",
      "       [-0.84027574, -0.28201683, -1.79479978]]), array([[-0.17793126, -0.4172283 ],\n",
      "       [-0.30004577, -0.09681589]])]\n",
      "------------\n",
      "List of Matrix b\n",
      "[array([[0.],\n",
      "       [0.],\n",
      "       [0.]]), array([[0.48079775],\n",
      "       [1.38557334]]), array([[-0.76150554],\n",
      "       [-0.38210952]])]\n",
      "len b:  3\n"
     ]
    }
   ],
   "source": [
    "L = 3\n",
    "neurons = [3, 2, 2]\n",
    "X = np.array([[1.], [2.], [3.]])\n",
    "\n",
    "W = [np.array([[ 0.06343915,  1.56121565,  0.60868435],\n",
    "       [-0.84027574, -0.28201683, -1.79479978]]), np.array([[-0.17793126, -0.4172283 ],\n",
    "       [-0.30004577, -0.09681589]])]\n",
    "b = [np.array([[0.],\n",
    "       [0.],\n",
    "       [0.]]), np.array([[0.48079775],\n",
    "       [1.38557334]]), np.array([[-0.76150554],\n",
    "       [-0.38210952]])]\n",
    "\n",
    "\n",
    "A = [0 for i in range(L)]\n",
    "A[0] = X.T\n",
    "Z = [0 for i in range(0, L)]\n",
    "Z[0] = A[0]\n",
    "\n",
    "print(A[0].shape)\n",
    "print(W[0].shape)\n",
    "\n",
    "\"\"\" for i in range(1, len(W)+1):\n",
    "       Z[i] = W[i-1] @ A[i-1] + b[i]\n",
    "       A[i] = sigmoid(Z[i]) \"\"\"\n",
    "\n",
    "# This allows us to identify the problem : X.T leads to an matrix multiplication issue.\n",
    "\n",
    "A[0] = X\n",
    "\n",
    "test = [0 for i in range(L)]\n",
    "test[0] = Z[0]\n",
    "\n",
    "\n",
    "for i in range(1, len(W)+1):\n",
    "       Z[i] = W[i-1] @ A[i-1] + b[i]\n",
    "       test.append(W[i-1] @ A[i-1] + b[i])\n",
    "       A[i] = sigmoid(Z[i])\n",
    "\n",
    "print(A[1])\n",
    "print(A[2])\n",
    "\n",
    "print(\"------------\")\n",
    "print(\"List of Matrix A\")\n",
    "print(A)\n",
    "print(\"------------\")\n",
    "print(\"List of Matrix Z\")\n",
    "print(Z)\n",
    "print(\"------------\")\n",
    "print(\"List of Matrix Z_test\")\n",
    "print(test)\n",
    "print(\"------------\")\n",
    "print(\"List of Matrix W\")\n",
    "print(W)\n",
    "print(\"------------\")\n",
    "print(\"List of Matrix b\")\n",
    "print(b)\n",
    "\n",
    "\n",
    "print(\"len b: \", len(b))\n"
   ]
  },
  {
   "cell_type": "code",
   "execution_count": 20,
   "metadata": {},
   "outputs": [
    {
     "name": "stdout",
     "output_type": "stream",
     "text": [
      "<class 'numpy.ndarray'>\n",
      "[[ 97]\n",
      " [104]\n",
      " [ 82]\n",
      " [ 73]\n",
      " [113]\n",
      " [105]\n",
      " [194]\n",
      " [190]\n",
      " [ 46]\n",
      " [ 24]]\n",
      "\n",
      "[10, 10, 4, 6]\n"
     ]
    }
   ],
   "source": [
    "\n",
    "\n",
    "# Limited to 10 layers - 10 layers probably won't ever be need in our case and we don't have infinite calculation power\n",
    "L = rd.randint(1, 10)\n",
    "\n",
    "dims = []\n",
    "for i in range(L):\n",
    "    dims.append(rd.randint(1, 10))\n",
    "\n",
    "n1 = dims[0]\n",
    "\n",
    "X_list = []\n",
    "for i in range(n1):\n",
    "    X_list.append([rd.randint(1, 200)])\n",
    "\n",
    "X = np.array(X_list)\n",
    "\n",
    "print(type(X))\n",
    "print(X)\n",
    "print()\n",
    "print(dims)"
   ]
  },
  {
   "cell_type": "code",
   "execution_count": 23,
   "metadata": {},
   "outputs": [
    {
     "name": "stdout",
     "output_type": "stream",
     "text": [
      "[[1.]\n",
      " [2.]\n",
      " [3.]]\n",
      "(3, 1)\n"
     ]
    }
   ],
   "source": [
    "print(X)\n",
    "print(X.shape)"
   ]
  },
  {
   "cell_type": "markdown",
   "metadata": {},
   "source": [
    "## Tests on Matrix multiplication "
   ]
  },
  {
   "cell_type": "code",
   "execution_count": 30,
   "metadata": {},
   "outputs": [],
   "source": [
    "from main import init_layers\n",
    "\n",
    "W, b = init_layers(3, [3, 2, 2])"
   ]
  },
  {
   "cell_type": "code",
   "execution_count": 31,
   "metadata": {},
   "outputs": [
    {
     "name": "stdout",
     "output_type": "stream",
     "text": [
      "W:  [array([[ 0.007704  , -1.40124616, -0.5297211 ],\n",
      "       [ 1.41261942, -0.83241364, -0.14795384]]), array([[-0.82918784, -0.80106936],\n",
      "       [-0.19199671, -0.47419383]])]\n",
      "b:  [array([[0.],\n",
      "       [0.],\n",
      "       [0.]]), array([[-0.07059285],\n",
      "       [-0.76018353]]), array([[1.39330049],\n",
      "       [2.58360113]])]\n"
     ]
    }
   ],
   "source": [
    "print(\"W: \", W)\n",
    "print(\"b: \", b)"
   ]
  },
  {
   "cell_type": "code",
   "execution_count": 34,
   "metadata": {},
   "outputs": [
    {
     "name": "stdout",
     "output_type": "stream",
     "text": [
      "(2, 3)\n",
      "(2, 2)\n",
      "-------------\n",
      "(3, 1)\n",
      "(2, 1)\n",
      "(2, 1)\n"
     ]
    }
   ],
   "source": [
    "for i in range(len(W)):\n",
    "    print(W[i].shape)\n",
    "\n",
    "print(\"-------------\")\n",
    "\n",
    "for i in range(len(b)):\n",
    "    print(b[i].shape)"
   ]
  },
  {
   "cell_type": "code",
   "execution_count": 70,
   "metadata": {},
   "outputs": [
    {
     "name": "stdout",
     "output_type": "stream",
     "text": [
      "<class 'numpy.ndarray'>\n",
      "(3, 3)\n",
      "<class 'numpy.ndarray'>\n",
      "(3, 3)\n"
     ]
    }
   ],
   "source": [
    "X1 = np.array([[1, 2, 3],\n",
    "      [2, 3, 4],\n",
    "      [3, 4, 5]])\n",
    "\n",
    "print(type(X1))\n",
    "print(X1.shape)\n",
    "\n",
    "X2 = X1.T\n",
    "print(type(X2))\n",
    "print(X2.shape)"
   ]
  },
  {
   "cell_type": "code",
   "execution_count": 66,
   "metadata": {},
   "outputs": [
    {
     "name": "stdout",
     "output_type": "stream",
     "text": [
      "(2, 3)\n"
     ]
    }
   ],
   "source": [
    "print(W[0].shape)"
   ]
  },
  {
   "cell_type": "code",
   "execution_count": 71,
   "metadata": {},
   "outputs": [
    {
     "name": "stdout",
     "output_type": "stream",
     "text": [
      "(2, 3)\n",
      "[[0.77422724 0.76498603 0.75170508]\n",
      " [0.92356162 0.92114236 0.91793611]]\n",
      "<class 'numpy.ndarray'>\n"
     ]
    }
   ],
   "source": [
    "from main import sigmoid\n",
    "\n",
    "assert len(X1[0] ) == len(W[0][1])\n",
    "    \n",
    "\n",
    "A = [0 for i in range(3)]\n",
    "A[0] = X2\n",
    "Z = [0 for i in range(0, 3)]\n",
    "Z[0] = A[0]\n",
    "\n",
    "for i in range(1, 3):\n",
    "    Z[i] = W[i-1] @ A[i-1] + b[i]\n",
    "    A[i] = sigmoid(Z[i])\n",
    "\n",
    "print(A[-1].shape)\n",
    "print(A[-1])\n",
    "print(type(A[-1]))"
   ]
  },
  {
   "cell_type": "code",
   "execution_count": 52,
   "metadata": {},
   "outputs": [
    {
     "ename": "ValueError",
     "evalue": "shapes (2,3) and (2,3) not aligned: 3 (dim 1) != 2 (dim 0)",
     "output_type": "error",
     "traceback": [
      "\u001b[1;31m---------------------------------------------------------------------------\u001b[0m",
      "\u001b[1;31mValueError\u001b[0m                                Traceback (most recent call last)",
      "Cell \u001b[1;32mIn[52], line 12\u001b[0m\n\u001b[0;32m      9\u001b[0m Z[\u001b[38;5;241m0\u001b[39m] \u001b[38;5;241m=\u001b[39m A[\u001b[38;5;241m0\u001b[39m]\n\u001b[0;32m     11\u001b[0m \u001b[38;5;28;01mfor\u001b[39;00m i \u001b[38;5;129;01min\u001b[39;00m \u001b[38;5;28mrange\u001b[39m(\u001b[38;5;241m1\u001b[39m, \u001b[38;5;241m3\u001b[39m):\n\u001b[1;32m---> 12\u001b[0m     Z[i] \u001b[38;5;241m=\u001b[39m \u001b[43mW\u001b[49m\u001b[43m[\u001b[49m\u001b[43mi\u001b[49m\u001b[38;5;241;43m-\u001b[39;49m\u001b[38;5;241;43m1\u001b[39;49m\u001b[43m]\u001b[49m\u001b[38;5;241;43m.\u001b[39;49m\u001b[43mdot\u001b[49m\u001b[43m(\u001b[49m\u001b[43mA\u001b[49m\u001b[43m[\u001b[49m\u001b[43mi\u001b[49m\u001b[38;5;241;43m-\u001b[39;49m\u001b[38;5;241;43m1\u001b[39;49m\u001b[43m]\u001b[49m\u001b[43m)\u001b[49m \u001b[38;5;241m+\u001b[39m b[i]\n\u001b[0;32m     13\u001b[0m     A[i] \u001b[38;5;241m=\u001b[39m sigmoid(Z[i])\n",
      "\u001b[1;31mValueError\u001b[0m: shapes (2,3) and (2,3) not aligned: 3 (dim 1) != 2 (dim 0)"
     ]
    }
   ],
   "source": [
    "from main import sigmoid\n",
    "\n",
    "assert len(X1[0] ) == len(W[0][1])\n",
    "    \n",
    "\n",
    "A = [0 for i in range(3)]\n",
    "A[0] = X1\n",
    "Z = [0 for i in range(0, 3)]\n",
    "Z[0] = A[0]\n",
    "\n",
    "for i in range(1, 3):\n",
    "    Z[i] = W[i-1].dot(A[i-1]) + b[i]\n",
    "    A[i] = sigmoid(Z[i])"
   ]
  }
 ],
 "metadata": {
  "kernelspec": {
   "display_name": "Python 3",
   "language": "python",
   "name": "python3"
  },
  "language_info": {
   "codemirror_mode": {
    "name": "ipython",
    "version": 3
   },
   "file_extension": ".py",
   "mimetype": "text/x-python",
   "name": "python",
   "nbconvert_exporter": "python",
   "pygments_lexer": "ipython3",
   "version": "3.13.0"
  }
 },
 "nbformat": 4,
 "nbformat_minor": 2
}
